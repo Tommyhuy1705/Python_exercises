{
 "cells": [
  {
   "cell_type": "markdown",
   "metadata": {},
   "source": [
    "***OPERATORS***"
   ]
  },
  {
   "cell_type": "code",
   "execution_count": 1,
   "metadata": {},
   "outputs": [
    {
     "name": "stdout",
     "output_type": "stream",
     "text": [
      "25.0\n"
     ]
    }
   ],
   "source": [
    "#1\n",
    "base = float(input('Enter base'))\n",
    "height = float(input('Enter height'))\n",
    "\n",
    "area = 0.5 * base * height\n",
    "print(area)"
   ]
  },
  {
   "cell_type": "code",
   "execution_count": 2,
   "metadata": {},
   "outputs": [
    {
     "name": "stdout",
     "output_type": "stream",
     "text": [
      "6.0\n"
     ]
    }
   ],
   "source": [
    "#2\n",
    "a = float(input('Enter a value:'))\n",
    "b = float(input('Enter b value:'))\n",
    "c = float(input('Enter c value:'))\n",
    "\n",
    "perimeter = a + b + c\n",
    "print(perimeter)"
   ]
  },
  {
   "cell_type": "code",
   "execution_count": 3,
   "metadata": {},
   "outputs": [
    {
     "name": "stdout",
     "output_type": "stream",
     "text": [
      "Area:  25.0\n",
      "Perimeter:  20.0\n"
     ]
    }
   ],
   "source": [
    "#3\n",
    "length = float(input('Enter length value:'))\n",
    "width = float(input('Enter width value:'))\n",
    "\n",
    "area = length * width\n",
    "perimeter = 2 * (length + width)\n",
    "print('Area: ', area)\n",
    "print('Perimeter: ', perimeter)"
   ]
  },
  {
   "cell_type": "code",
   "execution_count": 4,
   "metadata": {},
   "outputs": [
    {
     "name": "stdout",
     "output_type": "stream",
     "text": [
      "Area:  38.48451000647496\n",
      "Circumference:  21.991148575128552\n"
     ]
    }
   ],
   "source": [
    "#4\n",
    "import math\n",
    "r = float(input('Enter radius'))\n",
    "area = math.pi * r * r\n",
    "circumference = 2 * math.pi * r\n",
    "\n",
    "print('Area: ', area)\n",
    "print('Circumference: ', circumference)"
   ]
  },
  {
   "cell_type": "code",
   "execution_count": null,
   "metadata": {},
   "outputs": [
    {
     "name": "stdout",
     "output_type": "stream",
     "text": [
      "-2.0\n",
      "1.0\n"
     ]
    }
   ],
   "source": [
    "#5\n",
    "slope = 1/2\n",
    "b = 1\n",
    "if b > 0:\n",
    "    x_intercept = -b/slope\n",
    "else:\n",
    "    x_intercept = b/slope\n",
    "\n",
    "y_intercept = slope * 0 + b\n",
    "print(x_intercept)\n",
    "print(y_intercept)"
   ]
  },
  {
   "cell_type": "code",
   "execution_count": 9,
   "metadata": {},
   "outputs": [
    {
     "name": "stdout",
     "output_type": "stream",
     "text": [
      "2.0\n",
      "8.94427190999916\n"
     ]
    }
   ],
   "source": [
    "#6\n",
    "import math\n",
    "point1 = [2, 2]\n",
    "point2 = [6, 10]\n",
    "\n",
    "slope = (point2[1] - point1[1]) / (point2[0] - point1[0])\n",
    "print(slope)\n",
    "\n",
    "Euclidean_distance = math.sqrt(math.pow(point2[0] - point1[0], 2) + math.pow(point2[1] - point1[1], 2))\n",
    "print(Euclidean_distance)"
   ]
  },
  {
   "cell_type": "code",
   "execution_count": 34,
   "metadata": {},
   "outputs": [],
   "source": [
    "#7\n",
    "def compare_slope(slope1, slope2):\n",
    "    if slope1 > slope2:\n",
    "        print('Slope bai 5 lon hon slope bai 6')\n",
    "    elif slope1 < slope2:\n",
    "        print('Slope bai 5 nho hon slope bai 6')\n",
    "    else:\n",
    "        print('Slope hai bai bang nhau')"
   ]
  },
  {
   "cell_type": "code",
   "execution_count": 13,
   "metadata": {},
   "outputs": [
    {
     "name": "stdout",
     "output_type": "stream",
     "text": [
      "64.0\n"
     ]
    }
   ],
   "source": [
    "#8\n",
    "def calculate_y(x):\n",
    "    y = math.pow(x, 2) + 6 * x + 9\n",
    "    return y\n",
    "\n",
    "x = int(input('Enter x'))\n",
    "print(calculate_y(x))"
   ]
  },
  {
   "cell_type": "code",
   "execution_count": 11,
   "metadata": {},
   "outputs": [
    {
     "name": "stdout",
     "output_type": "stream",
     "text": [
      "Length a is equal to b\n"
     ]
    }
   ],
   "source": [
    "#9\n",
    "a = len('python')\n",
    "b = len('dragon')\n",
    "\n",
    "if a == b:\n",
    "    print('Length a is equal to b')\n",
    "elif a > b:\n",
    "    print('Length a is higher than b')\n",
    "else:\n",
    "    print('Length a is lower than b')"
   ]
  },
  {
   "cell_type": "code",
   "execution_count": null,
   "metadata": {},
   "outputs": [
    {
     "name": "stdout",
     "output_type": "stream",
     "text": [
      "Good job bae\n"
     ]
    }
   ],
   "source": [
    "#10\n",
    "cList = ['python', 'dragon']\n",
    "on = 'on'\n",
    "count = 0\n",
    "for i in cList:\n",
    "    for string in range(len(i)):\n",
    "        if string == len(i) - 1:\n",
    "            break\n",
    "        if i[string] + i[string + 1] == on:\n",
    "            count += 1\n",
    "if count == 2:\n",
    "    print('True')\n",
    "else:\n",
    "    print('False')"
   ]
  },
  {
   "cell_type": "code",
   "execution_count": 26,
   "metadata": {},
   "outputs": [
    {
     "name": "stdout",
     "output_type": "stream",
     "text": [
      "True\n"
     ]
    }
   ],
   "source": [
    "#11\n",
    "phrase = 'I hope this course is not full of jargon'\n",
    "check = 'jargon'\n",
    "if check not in phrase:\n",
    "    print('False')\n",
    "else:\n",
    "    print('True')"
   ]
  },
  {
   "cell_type": "code",
   "execution_count": null,
   "metadata": {},
   "outputs": [
    {
     "name": "stdout",
     "output_type": "stream",
     "text": [
      "Length of text: 6\n",
      "6.0\n",
      "6\n"
     ]
    }
   ],
   "source": [
    "#13\n",
    "text = 'python'\n",
    "a = float(len(text))\n",
    "b = str(len(text))\n",
    "print('Length of text:', len(text))\n",
    "print(a)\n",
    "print(b)"
   ]
  },
  {
   "cell_type": "code",
   "execution_count": 29,
   "metadata": {},
   "outputs": [
    {
     "name": "stdout",
     "output_type": "stream",
     "text": [
      "So chan\n"
     ]
    }
   ],
   "source": [
    "#14\n",
    "number = int(input('Enter a number'))\n",
    "if number % 2 == 0:\n",
    "    print('So chan')\n",
    "else:\n",
    "    print('So le')"
   ]
  },
  {
   "cell_type": "code",
   "execution_count": 30,
   "metadata": {},
   "outputs": [
    {
     "name": "stdout",
     "output_type": "stream",
     "text": [
      "Pay of the person:  25\n"
     ]
    }
   ],
   "source": [
    "#15\n",
    "hour = int(input('Enter hour'))\n",
    "rate = int(input('Enter rate per hour'))\n",
    "\n",
    "pay = hour * rate\n",
    "print('Pay of the person: ', pay)"
   ]
  },
  {
   "cell_type": "code",
   "execution_count": 32,
   "metadata": {},
   "outputs": [
    {
     "name": "stdout",
     "output_type": "stream",
     "text": [
      "Seconds a person can live:  3153600000\n"
     ]
    }
   ],
   "source": [
    "#16\n",
    "year = int(input('Enter year:'))\n",
    "second = year * 365 * 24 * 60 * 60\n",
    "\n",
    "print(\"Seconds a person can live: \", second)"
   ]
  }
 ],
 "metadata": {
  "kernelspec": {
   "display_name": "Python 3",
   "language": "python",
   "name": "python3"
  },
  "language_info": {
   "codemirror_mode": {
    "name": "ipython",
    "version": 3
   },
   "file_extension": ".py",
   "mimetype": "text/x-python",
   "name": "python",
   "nbconvert_exporter": "python",
   "pygments_lexer": "ipython3",
   "version": "3.12.9"
  }
 },
 "nbformat": 4,
 "nbformat_minor": 2
}
