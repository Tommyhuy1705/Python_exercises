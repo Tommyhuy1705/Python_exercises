{
 "cells": [
  {
   "cell_type": "markdown",
   "id": "d570cb28",
   "metadata": {},
   "source": [
    "1. Write a Python function to find the maximum of three numbers.\n",
    "2. Write a Python function to sum all the numbers in a list.\n",
    "3. Write a Python program to reverse a string.\n",
    "4. Write a Python function to calculate the factorial of a number (a non-negative\n",
    "integer). The function accepts the number as an argument.\n",
    "5. Write a Python function that takes a number as a parameter and checks\n",
    "whether the number is prime or not.\n",
    "6. Write a Python function to print\n",
    "1. all prime numbers that less than a number (enter prompt keyboard).\n",
    "2. the first N prime numbers\n",
    "7. Write a Python function to check whether a number is \"Perfect\" or not. Then\n",
    "print all perfect number that less than 1000.\n",
    "8. Write a Python function to check whether a string is a pangram or not.\n",
    "(Note : Pangrams are words or sentences containing every letter of the alphabet at\n",
    "least once. For example : \"The quick brown fox jumps over the lazy dog\""
   ]
  },
  {
   "cell_type": "code",
   "execution_count": 2,
   "id": "51fef1f9",
   "metadata": {},
   "outputs": [],
   "source": [
    "#1\n",
    "def maximum_number(a, b, c):\n",
    "    return max(a, b, c)"
   ]
  },
  {
   "cell_type": "code",
   "execution_count": 3,
   "id": "dcba9a99",
   "metadata": {},
   "outputs": [
    {
     "name": "stdout",
     "output_type": "stream",
     "text": [
      "10\n"
     ]
    }
   ],
   "source": [
    "print(maximum_number(5, 7, 10))"
   ]
  },
  {
   "cell_type": "code",
   "execution_count": 8,
   "id": "cc87d3d7",
   "metadata": {},
   "outputs": [],
   "source": [
    "#2\n",
    "def sum_list(cList):\n",
    "    sum = 0\n",
    "    for i in list:\n",
    "        sum += i\n",
    "    return sum"
   ]
  },
  {
   "cell_type": "code",
   "execution_count": 9,
   "id": "030e2f12",
   "metadata": {},
   "outputs": [
    {
     "name": "stdout",
     "output_type": "stream",
     "text": [
      "18\n"
     ]
    }
   ],
   "source": [
    "cList = [1, 2, 4, 5, 6]\n",
    "print(sum_list(cList))"
   ]
  },
  {
   "cell_type": "code",
   "execution_count": 10,
   "id": "a4be6ab8",
   "metadata": {},
   "outputs": [],
   "source": [
    "#3\n",
    "def reversed_string(string):\n",
    "    return string[::-1]"
   ]
  },
  {
   "cell_type": "code",
   "execution_count": 11,
   "id": "9ef6c34f",
   "metadata": {},
   "outputs": [
    {
     "name": "stdout",
     "output_type": "stream",
     "text": [
      "hgfedcba\n"
     ]
    }
   ],
   "source": [
    "string = 'abcdefgh'\n",
    "print(reversed_string(string))"
   ]
  },
  {
   "cell_type": "code",
   "execution_count": 12,
   "id": "4dce8586",
   "metadata": {},
   "outputs": [],
   "source": [
    "#4\n",
    "def factorial(n):\n",
    "    if n == 1:\n",
    "        return 1\n",
    "    else:\n",
    "        return n * factorial(n - 1)"
   ]
  },
  {
   "cell_type": "code",
   "execution_count": 13,
   "id": "4b9b9758",
   "metadata": {},
   "outputs": [
    {
     "name": "stdout",
     "output_type": "stream",
     "text": [
      "24\n"
     ]
    }
   ],
   "source": [
    "x = factorial(4)\n",
    "print(x)"
   ]
  },
  {
   "cell_type": "code",
   "execution_count": 14,
   "id": "51594092",
   "metadata": {},
   "outputs": [],
   "source": [
    "#5\n",
    "def check_prime(n):\n",
    "    if n <= 1:\n",
    "        print(f'{n} is not the prime')\n",
    "    else:\n",
    "        is_prime = True\n",
    "        for i in range(2, n):\n",
    "            if n % i == 0:\n",
    "                is_prime = False\n",
    "                break\n",
    "        if is_prime:\n",
    "            return f'{n} is the prime'\n",
    "        else:\n",
    "            return f'{n} is not the prime'"
   ]
  },
  {
   "cell_type": "code",
   "execution_count": 15,
   "id": "75f8602a",
   "metadata": {},
   "outputs": [
    {
     "name": "stdout",
     "output_type": "stream",
     "text": [
      "3 is the prime\n"
     ]
    }
   ],
   "source": [
    "print(check_prime(3))"
   ]
  },
  {
   "cell_type": "code",
   "execution_count": 50,
   "id": "97102160",
   "metadata": {},
   "outputs": [],
   "source": [
    "#6\n",
    "def prime_num(n):\n",
    "    if n <= 1:\n",
    "        return 'No prime numbers less than or equal to 1'\n",
    "    \n",
    "    primes = []\n",
    "    for i in range(2, n):\n",
    "        is_prime = True\n",
    "        for j in range(2, int(i ** 0.5) + 1):\n",
    "            if i % j == 0:\n",
    "                is_prime = False\n",
    "                break\n",
    "        if is_prime:\n",
    "            primes.append(i)\n",
    "    print(primes[0])\n",
    "    return primes"
   ]
  },
  {
   "cell_type": "code",
   "execution_count": 51,
   "id": "6657f875",
   "metadata": {},
   "outputs": [
    {
     "name": "stdout",
     "output_type": "stream",
     "text": [
      "2\n",
      "[2, 3, 5, 7, 11, 13, 17, 19, 23, 29, 31, 37, 41, 43, 47, 53, 59, 61, 67, 71, 73, 79, 83, 89, 97]\n"
     ]
    }
   ],
   "source": [
    "print(prime_num(100))"
   ]
  },
  {
   "cell_type": "code",
   "execution_count": 52,
   "id": "c01ea4d7",
   "metadata": {},
   "outputs": [],
   "source": [
    "#7\n",
    "def check_perfect(num):\n",
    "    division_sum = 0\n",
    "    for i in range(1, num):\n",
    "        if num % i == 0:\n",
    "            division_sum += i\n",
    "    return division_sum == num"
   ]
  },
  {
   "cell_type": "code",
   "execution_count": 53,
   "id": "9cb78924",
   "metadata": {},
   "outputs": [
    {
     "name": "stdout",
     "output_type": "stream",
     "text": [
      "6\n",
      "28\n",
      "496\n"
     ]
    }
   ],
   "source": [
    "for i in range(1, 1000):\n",
    "    if check_perfect(i):\n",
    "        print(i)"
   ]
  },
  {
   "cell_type": "code",
   "execution_count": 56,
   "id": "ff495e9d",
   "metadata": {},
   "outputs": [],
   "source": [
    "#8\n",
    "import string\n",
    "\n",
    "def is_pangram(sentence):\n",
    "    sentence_letters = set(sentence.lower())\n",
    "    \n",
    "    alphabet = set(string.ascii_lowercase)\n",
    "    \n",
    "    return alphabet.issubset(sentence_letters)"
   ]
  },
  {
   "cell_type": "code",
   "execution_count": 57,
   "id": "b73593fe",
   "metadata": {},
   "outputs": [
    {
     "name": "stdout",
     "output_type": "stream",
     "text": [
      "True\n",
      "False\n"
     ]
    }
   ],
   "source": [
    "print(is_pangram(\"The quick brown fox jumps over a lazy dog.\"))\n",
    "print(is_pangram(\"Hello World!\"))    "
   ]
  }
 ],
 "metadata": {
  "kernelspec": {
   "display_name": "Python 3",
   "language": "python",
   "name": "python3"
  },
  "language_info": {
   "codemirror_mode": {
    "name": "ipython",
    "version": 3
   },
   "file_extension": ".py",
   "mimetype": "text/x-python",
   "name": "python",
   "nbconvert_exporter": "python",
   "pygments_lexer": "ipython3",
   "version": "3.11.4"
  }
 },
 "nbformat": 4,
 "nbformat_minor": 5
}
