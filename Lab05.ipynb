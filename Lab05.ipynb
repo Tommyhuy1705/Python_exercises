{
 "cells": [
  {
   "cell_type": "markdown",
   "id": "f2876119",
   "metadata": {},
   "source": [
    "***FOR_LOOP STATEMENT***"
   ]
  },
  {
   "cell_type": "code",
   "execution_count": 6,
   "id": "000f679a",
   "metadata": {},
   "outputs": [
    {
     "name": "stdout",
     "output_type": "stream",
     "text": [
      "1\n",
      "2\n",
      "3\n",
      "4\n",
      "5\n",
      "6\n",
      "7\n",
      "8\n",
      "9\n",
      "10\n"
     ]
    }
   ],
   "source": [
    "#1\n",
    "for i in range(1, 11):\n",
    "    print(i)"
   ]
  },
  {
   "cell_type": "code",
   "execution_count": 7,
   "id": "25756c82",
   "metadata": {},
   "outputs": [
    {
     "name": "stdout",
     "output_type": "stream",
     "text": [
      "10\n"
     ]
    }
   ],
   "source": [
    "#2\n",
    "n = int(input('Enter n'))\n",
    "sum = 0\n",
    "for i in range(1, n):\n",
    "    sum += i\n",
    "print(sum)"
   ]
  },
  {
   "cell_type": "code",
   "execution_count": 8,
   "id": "7606e112",
   "metadata": {},
   "outputs": [
    {
     "name": "stdout",
     "output_type": "stream",
     "text": [
      "Even =  6\n",
      "Odd =  4\n"
     ]
    }
   ],
   "source": [
    "#3\n",
    "n = int(input('Enter n'))\n",
    "even = 0\n",
    "odd = 0\n",
    "for i in range(1, n):\n",
    "    if i % 2 == 0:\n",
    "        even += i\n",
    "    else:\n",
    "        odd += i\n",
    "\n",
    "print('Even = ', even)\n",
    "print('Odd = ', odd)"
   ]
  },
  {
   "cell_type": "code",
   "execution_count": 9,
   "id": "8ff364af",
   "metadata": {},
   "outputs": [
    {
     "data": {
      "text/plain": [
       "5"
      ]
     },
     "execution_count": 9,
     "metadata": {},
     "output_type": "execute_result"
    }
   ],
   "source": [
    "#4\n",
    "def vowels(string):\n",
    "    vowelsL = ['a','e','o','u','i']\n",
    "    string = input('Enter a string')\n",
    "    count = 0\n",
    "    for i in string:\n",
    "        if i in vowelsL:\n",
    "            count += 1\n",
    "    \n",
    "    return count\n",
    "\n",
    "string = input('Enter a string')\n",
    "vowels(string)"
   ]
  },
  {
   "cell_type": "code",
   "execution_count": 10,
   "id": "e271f27e",
   "metadata": {},
   "outputs": [
    {
     "data": {
      "text/plain": [
       "3"
      ]
     },
     "execution_count": 10,
     "metadata": {},
     "output_type": "execute_result"
    }
   ],
   "source": [
    "#5\n",
    "def count_words(string):\n",
    "    listW = string.split()\n",
    "\n",
    "    return len(listW)\n",
    "\n",
    "string = 'I Love You'\n",
    "count_words(string)"
   ]
  },
  {
   "cell_type": "code",
   "execution_count": 15,
   "id": "7cfc301d",
   "metadata": {},
   "outputs": [
    {
     "name": "stdout",
     "output_type": "stream",
     "text": [
      "10\n",
      "so ban doan nho hon\n",
      "ban doan dung sau 2 lan\n"
     ]
    }
   ],
   "source": [
    "#6\n",
    "import random\n",
    "def guess_game():\n",
    "    number = random.randint(1,100)\n",
    "    print(number)\n",
    "    level = input('Enter a level you want')\n",
    "    if level == 'easy':\n",
    "        n = 10\n",
    "    elif level == 'medium':\n",
    "        n = 6\n",
    "    else:\n",
    "        n = 4\n",
    "\n",
    "    for i in range(n):\n",
    "        numberGuess = int(input(\"nhap so ban doan: \"))\n",
    "        if numberGuess == number:\n",
    "            print(f\"ban doan dung sau {i+1} lan\")\n",
    "            break\n",
    "        else:\n",
    "            if numberGuess < number:\n",
    "                print(\"so ban doan nho hon\")\n",
    "            else:\n",
    "                print(\"so ban doan lon hon \")\n",
    "        \n",
    "guess_game()"
   ]
  }
 ],
 "metadata": {
  "kernelspec": {
   "display_name": "Python 3",
   "language": "python",
   "name": "python3"
  },
  "language_info": {
   "codemirror_mode": {
    "name": "ipython",
    "version": 3
   },
   "file_extension": ".py",
   "mimetype": "text/x-python",
   "name": "python",
   "nbconvert_exporter": "python",
   "pygments_lexer": "ipython3",
   "version": "3.12.9"
  }
 },
 "nbformat": 4,
 "nbformat_minor": 5
}
