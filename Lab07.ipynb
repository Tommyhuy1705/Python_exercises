{
 "cells": [
  {
   "cell_type": "markdown",
   "id": "fe9c5fb5",
   "metadata": {},
   "source": [
    "***PYTHON LIST 280 EXERCISES***"
   ]
  },
  {
   "cell_type": "code",
   "execution_count": 1,
   "id": "ec684584",
   "metadata": {},
   "outputs": [],
   "source": [
    "import random"
   ]
  },
  {
   "cell_type": "code",
   "execution_count": null,
   "id": "3700c2ca",
   "metadata": {},
   "outputs": [
    {
     "name": "stdout",
     "output_type": "stream",
     "text": [
      "[7, 7, 3, 4, 10]\n",
      "31\n"
     ]
    }
   ],
   "source": [
    "#1\n",
    "n = int(input('Enter number of categories in the list'))\n",
    "list = []\n",
    "for i in range(n):\n",
    "    num = random.randint(1,10)\n",
    "    list.append(num)\n",
    "print(list)\n",
    "print(sum(list))"
   ]
  },
  {
   "cell_type": "code",
   "execution_count": null,
   "id": "6639079b",
   "metadata": {},
   "outputs": [
    {
     "name": "stdout",
     "output_type": "stream",
     "text": [
      "[1, 4, 2, 3, 6]\n",
      "144\n"
     ]
    }
   ],
   "source": [
    "#2\n",
    "n = int(input('Enter number of categories in the list'))\n",
    "list = []\n",
    "mul = 1\n",
    "for i in range(n):\n",
    "    num = random.randint(1,10)\n",
    "    list.append(num)\n",
    "print(list)\n",
    "for i in list:\n",
    "    mul *= i\n",
    "print(mul)"
   ]
  },
  {
   "cell_type": "code",
   "execution_count": null,
   "id": "1d7fb744",
   "metadata": {},
   "outputs": [
    {
     "name": "stdout",
     "output_type": "stream",
     "text": [
      "[2, 3, 6, 3, 4]\n",
      "The largest number in list: 6\n"
     ]
    }
   ],
   "source": [
    "#3\n",
    "n = int(input('Enter number of categories in the list'))\n",
    "list = []\n",
    "for i in range(n):\n",
    "    num = random.randint(1,10)\n",
    "    list.append(num)\n",
    "\n",
    "print(list)\n",
    "list.sort()\n",
    "print(f'The largest number in list: {list[-1]}')"
   ]
  },
  {
   "cell_type": "code",
   "execution_count": null,
   "id": "753bb40e",
   "metadata": {},
   "outputs": [
    {
     "name": "stdout",
     "output_type": "stream",
     "text": [
      "[3, 3, 1, 9, 2]\n",
      "The largest number in list: 1\n"
     ]
    }
   ],
   "source": [
    "#4\n",
    "n = int(input('Enter number of categories in the list'))\n",
    "list = []\n",
    "for i in range(n):\n",
    "    num = random.randint(1,10)\n",
    "    list.append(num)\n",
    "\n",
    "print(list)\n",
    "list.sort()\n",
    "print(f'The largest number in list: {list[0]}')"
   ]
  },
  {
   "cell_type": "code",
   "execution_count": null,
   "id": "f4abdac0",
   "metadata": {},
   "outputs": [
    {
     "name": "stdout",
     "output_type": "stream",
     "text": [
      "2\n"
     ]
    }
   ],
   "source": [
    "#5\n",
    "list = ['abc', 'aba', 'xyz', '1221']\n",
    "count = 0\n",
    "for i in list:\n",
    "    if i[0] == i[-1]:\n",
    "        count += 1\n",
    "print(count)"
   ]
  },
  {
   "cell_type": "code",
   "execution_count": null,
   "id": "7dcedc9b",
   "metadata": {},
   "outputs": [],
   "source": [
    "#6\n"
   ]
  }
 ],
 "metadata": {
  "kernelspec": {
   "display_name": "Python 3",
   "language": "python",
   "name": "python3"
  },
  "language_info": {
   "codemirror_mode": {
    "name": "ipython",
    "version": 3
   },
   "file_extension": ".py",
   "mimetype": "text/x-python",
   "name": "python",
   "nbconvert_exporter": "python",
   "pygments_lexer": "ipython3",
   "version": "3.11.4"
  }
 },
 "nbformat": 4,
 "nbformat_minor": 5
}
