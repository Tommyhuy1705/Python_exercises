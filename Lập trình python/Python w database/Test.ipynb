{
 "cells": [
  {
   "cell_type": "code",
   "execution_count": 1,
   "id": "f1b60a4e",
   "metadata": {},
   "outputs": [],
   "source": [
    "import sqlite3"
   ]
  },
  {
   "cell_type": "code",
   "execution_count": 2,
   "id": "c5d2e6bb",
   "metadata": {},
   "outputs": [],
   "source": [
    "con = sqlite3.connect('test.db')\n",
    "cur = con.cursor()"
   ]
  },
  {
   "cell_type": "code",
   "execution_count": null,
   "id": "6204f589",
   "metadata": {},
   "outputs": [],
   "source": [
    "chi_nhanh = [\n",
    "    ('C01', 'Chi nhánh 1', 'N08', '2006/02/16'),\n",
    "    ('C02', 'Chi nhánh 2', 'N04', '2005/12/10'),\n",
    "    ('C03', 'Chi nhánh 3', 'N02', '2004/03/07'),\n",
    "]\n",
    "cur.executemany(\"INSERT INTO CHI_NHANH VALUES (?, ?, ?, ?)\", chi_nhanh)\n",
    "con.commit()"
   ]
  },
  {
   "cell_type": "code",
   "execution_count": 15,
   "id": "ac173903",
   "metadata": {},
   "outputs": [
    {
     "name": "stdout",
     "output_type": "stream",
     "text": [
      "('C01', 'Chi nhánh 1', 'N08', '2006/02/16')\n",
      "('C02', 'Chi nhánh 2', 'N04', '2005/12/10')\n",
      "('C03', 'Chi nhánh 3', 'N02', '2004/03/07')\n"
     ]
    }
   ],
   "source": [
    "cur.execute(\"SELECT * FROM CHI_NHANH\")\n",
    "for row in cur.fetchall():\n",
    "    print(row)"
   ]
  },
  {
   "cell_type": "code",
   "execution_count": 21,
   "id": "547357cd",
   "metadata": {},
   "outputs": [],
   "source": [
    "thanh_pho = [\n",
    "    ('01', 'Hà Nội'),\n",
    "    ('02', 'TPHCM'),\n",
    "    ('03', 'Đà Nẵng'),\n",
    "    ('04', 'Cần Thơ')\n",
    "]\n",
    "cur.executemany(\"INSERT INTO thanh_pho VALUES (?, ?)\", thanh_pho)\n",
    "con.commit()"
   ]
  },
  {
   "cell_type": "code",
   "execution_count": 22,
   "id": "08921dd5",
   "metadata": {},
   "outputs": [
    {
     "name": "stdout",
     "output_type": "stream",
     "text": [
      "('01', 'Hà Nội')\n",
      "('02', 'TPHCM')\n",
      "('03', 'Đà Nẵng')\n",
      "('04', 'Cần Thơ')\n"
     ]
    }
   ],
   "source": [
    "cur.execute(\"select * from thanh_pho\")\n",
    "for row in cur.fetchall():\n",
    "    print(row)"
   ]
  },
  {
   "cell_type": "code",
   "execution_count": 26,
   "id": "24ca5b9b",
   "metadata": {},
   "outputs": [],
   "source": [
    "nhan_vien = [\n",
    "    ('N01', 'Trần Ngọc', 'An', 'Nam', '1965-11-10', 4500000, 'C03', 'N02'),\n",
    "    ('N02', 'Lưu An', 'Tư', 'Nam', '1980-12-10', 5200000, 'C03', None),\n",
    "    ('N03', 'Lý Thanh', 'Ngọc', 'Nữ', '1988-09-25', 4300000, 'C02', 'N04'),\n",
    "    ('N04', 'Lê Kim', 'Oanh', 'Nữ', '1975-06-22', 5000000, 'C02', None),\n",
    "    ('N05', 'Lý Văn', 'Năm', 'Nam', '1988-03-07', 4800000, 'C03', 'N02'),\n",
    "    ('N06', 'Nguyễn Thị', 'Chín', 'Nữ', '1968-07-16', 3200000, 'C03', 'N05'),\n",
    "    ('N07', 'Lê Văn', 'Bốn', 'Nam', '1970-07-18', 4500000, 'C02', 'N04'),\n",
    "    ('N08', 'Lê Hùng', 'Sư', 'Nam', '1965-12-25', 6500000, 'C01', None)\n",
    "]\n",
    "cur.executemany(\"INSERT INTO nhan_vien VALUES (?,?,?,?,?,?,?,?)\", nhan_vien)\n",
    "con.commit()"
   ]
  },
  {
   "cell_type": "code",
   "execution_count": 24,
   "id": "4d4ca8b5",
   "metadata": {},
   "outputs": [],
   "source": [
    "cur.execute(\"delete from nhan_vien\")\n",
    "con.commit()"
   ]
  },
  {
   "cell_type": "code",
   "execution_count": 27,
   "id": "78f359c6",
   "metadata": {},
   "outputs": [
    {
     "name": "stdout",
     "output_type": "stream",
     "text": [
      "('N01', 'Trần Ngọc', 'An', 'Nam', '1965-11-10', 4500000.0, 'C03', 'N02')\n",
      "('N02', 'Lưu An', 'Tư', 'Nam', '1980-12-10', 5200000.0, 'C03', None)\n",
      "('N03', 'Lý Thanh', 'Ngọc', 'Nữ', '1988-09-25', 4300000.0, 'C02', 'N04')\n",
      "('N04', 'Lê Kim', 'Oanh', 'Nữ', '1975-06-22', 5000000.0, 'C02', None)\n",
      "('N05', 'Lý Văn', 'Năm', 'Nam', '1988-03-07', 4800000.0, 'C03', 'N02')\n",
      "('N06', 'Nguyễn Thị', 'Chín', 'Nữ', '1968-07-16', 3200000.0, 'C03', 'N05')\n",
      "('N07', 'Lê Văn', 'Bốn', 'Nam', '1970-07-18', 4500000.0, 'C02', 'N04')\n",
      "('N08', 'Lê Hùng', 'Sư', 'Nam', '1965-12-25', 6500000.0, 'C01', None)\n"
     ]
    }
   ],
   "source": [
    "cur.execute('select * from nhan_vien')\n",
    "for row in cur.fetchall():\n",
    "    print(row)"
   ]
  },
  {
   "cell_type": "code",
   "execution_count": 38,
   "id": "9b9db70b",
   "metadata": {},
   "outputs": [],
   "source": [
    "vp_cn = [\n",
    "    ('C01', '01'),\n",
    "    ('C02', '02'),\n",
    "    ('C03', '03'),\n",
    "    ('C03', '04'),\n",
    "    ('C03', '01')\n",
    "]\n",
    "cur.executemany(\"insert into vphong_cn values (?, ?)\", vp_cn)\n",
    "con.commit()"
   ]
  },
  {
   "cell_type": "code",
   "execution_count": 39,
   "id": "3f6c4465",
   "metadata": {},
   "outputs": [
    {
     "name": "stdout",
     "output_type": "stream",
     "text": [
      "('C01', '01')\n",
      "('C02', '02')\n",
      "('C03', '03')\n",
      "('C03', '04')\n",
      "('C03', '01')\n"
     ]
    }
   ],
   "source": [
    "cur.execute('select * from vphong_cn')\n",
    "for row in cur.fetchall():\n",
    "    print(row)"
   ]
  },
  {
   "cell_type": "code",
   "execution_count": 40,
   "id": "f3a80645",
   "metadata": {},
   "outputs": [],
   "source": [
    "cong_trinh = [\n",
    "    ('CT01', 'Công trình số 1', '2007/03/07', '2007/05/15', '03', 'C03'),\n",
    "    ('CT02', 'Công trình số 2', '2007/02/16', '2007/05/15', '04', 'C03'),\n",
    "    ('CT03', 'Công trình số 3', '2006/07/16', '2007/07/18', '01', 'C03'),\n",
    "    ('CT04', 'Công trình số 4', '2008/07/18', '2008/12/25', '02', 'C02'),\n",
    "    ('CT05', 'Công trình số 5', '2008/06/22', '2008/12/25', '01', 'C01'),\n",
    "    ('CT06', 'Công trình số 6', '2009/06/22', '2009/12/10', '02', 'C02')\n",
    "]\n",
    "cur.executemany(\"INSERT INTO cong_trinh VALUES (?, ?, ?, ?, ?, ?)\", cong_trinh)\n",
    "con.commit()"
   ]
  },
  {
   "cell_type": "code",
   "execution_count": 41,
   "id": "8cccd839",
   "metadata": {},
   "outputs": [
    {
     "name": "stdout",
     "output_type": "stream",
     "text": [
      "('CT01', 'Công trình số 1', '2007/03/07', '2007/05/15', '03', 'C03')\n",
      "('CT02', 'Công trình số 2', '2007/02/16', '2007/05/15', '04', 'C03')\n",
      "('CT03', 'Công trình số 3', '2006/07/16', '2007/07/18', '01', 'C03')\n",
      "('CT04', 'Công trình số 4', '2008/07/18', '2008/12/25', '02', 'C02')\n",
      "('CT05', 'Công trình số 5', '2008/06/22', '2008/12/25', '01', 'C01')\n",
      "('CT06', 'Công trình số 6', '2009/06/22', '2009/12/10', '02', 'C02')\n"
     ]
    }
   ],
   "source": [
    "cur.execute('select * from cong_trinh')\n",
    "for row in cur.fetchall():\n",
    "    print(row)"
   ]
  },
  {
   "cell_type": "code",
   "execution_count": 42,
   "id": "23e6cf02",
   "metadata": {},
   "outputs": [],
   "source": [
    "phan_cong = [\n",
    "    ('N01', 'CT01', '18'),\n",
    "    ('N01', 'CT02', '30'),\n",
    "    ('N05', 'CT03', '20'),\n",
    "    ('N06', 'CT04', '26'),\n",
    "    ('N06', 'CT05', '12'),\n",
    "    ('N02', 'CT01', '12'),\n",
    "    ('N02', 'CT06', '20'),\n",
    "    ('N02', 'CT02', '18'),\n",
    "    ('N02', 'CT03', '22'),\n",
    "    ('N02', 'CT04', '32'),\n",
    "    ('N02', 'CT05', '16'),\n",
    "    ('N03', 'CT06', '8'),\n",
    "    ('N03', 'CT04', '28'),\n",
    "    ('N07', 'CT04', '12'),\n",
    "    ('N07', 'CT06', '32'),\n",
    "    ('N04', 'CT06', '24'),\n",
    "    ('N04', 'CT05', '16'),\n",
    "    ('N08', 'CT05', '18')\n",
    "]\n",
    "cur.executemany('insert into phan_cong values (?, ?, ?)', phan_cong)\n",
    "con.commit()"
   ]
  },
  {
   "cell_type": "code",
   "execution_count": 43,
   "id": "8e5a901e",
   "metadata": {},
   "outputs": [
    {
     "name": "stdout",
     "output_type": "stream",
     "text": [
      "('N01', 'CT01', 18)\n",
      "('N01', 'CT02', 30)\n",
      "('N05', 'CT03', 20)\n",
      "('N06', 'CT04', 26)\n",
      "('N06', 'CT05', 12)\n",
      "('N02', 'CT01', 12)\n",
      "('N02', 'CT06', 20)\n",
      "('N02', 'CT02', 18)\n",
      "('N02', 'CT03', 22)\n",
      "('N02', 'CT04', 32)\n",
      "('N02', 'CT05', 16)\n",
      "('N03', 'CT06', 8)\n",
      "('N03', 'CT04', 28)\n",
      "('N07', 'CT04', 12)\n",
      "('N07', 'CT06', 32)\n",
      "('N04', 'CT06', 24)\n",
      "('N04', 'CT05', 16)\n",
      "('N08', 'CT05', 18)\n"
     ]
    }
   ],
   "source": [
    "cur.execute('select * from phan_cong')\n",
    "for row in cur.fetchall():\n",
    "    print(row)"
   ]
  },
  {
   "cell_type": "code",
   "execution_count": null,
   "id": "0b241600",
   "metadata": {},
   "outputs": [],
   "source": [
    "than_nhan = [\n",
    "    ('N01', 'Trần Đình Toàn','1980/11/30','Nam','Con'),\n",
    "    ('N03', 'Lý Vệ','1990/01/30', 'Nam', 'Anh Ruột'),\n",
    "    ('N03', 'Lý Ngọc Nữ','1980/03/30', 'Nữ', 'Chị ruột'),\n",
    "    ('N06', 'Nguyễn A','1981/11/11', 'Nam', 'Con'),\n",
    "    ('N08', 'Lê Lựu','1983/05/30', 'Nam', 'Con nuôi')\n",
    "]\n",
    "cur.executemany('insert into than_nhan values (?, ?, ?, ?, ?)', than_nhan)\n",
    "con.commit()"
   ]
  },
  {
   "cell_type": "code",
   "execution_count": 8,
   "id": "e26c893c",
   "metadata": {},
   "outputs": [
    {
     "name": "stdout",
     "output_type": "stream",
     "text": [
      "('N01', 'Trần Đình Toàn', '1980/11/30', 'Nam', 'Con')\n",
      "('N03', 'Lý Vệ', '1990/01/30', 'Nam', 'Anh Ruột')\n",
      "('N03', 'Lý Ngọc Nữ', '1980/03/30', 'Nữ', 'Chị ruột')\n",
      "('N06', 'Nguyễn A', '1981/11/11', 'Nam', 'Con')\n",
      "('N08', 'Lê Lựu', '1983/05/30', 'Nam', 'Con nuôi')\n"
     ]
    }
   ],
   "source": [
    "cur.execute('select * from than_nhan')\n",
    "for row in cur.fetchall():\n",
    "    print(row)"
   ]
  },
  {
   "cell_type": "code",
   "execution_count": 3,
   "id": "a2af836f",
   "metadata": {},
   "outputs": [
    {
     "name": "stdout",
     "output_type": "stream",
     "text": [
      "('N01', 'Chi nhánh 3')\n",
      "('N02', 'Chi nhánh 3')\n",
      "('N03', 'Chi nhánh 2')\n",
      "('N04', 'Chi nhánh 2')\n",
      "('N05', 'Chi nhánh 3')\n",
      "('N06', 'Chi nhánh 3')\n",
      "('N07', 'Chi nhánh 2')\n",
      "('N08', 'Chi nhánh 1')\n"
     ]
    }
   ],
   "source": [
    "#a)\n",
    "cur.execute(\"select nhan_vien.manv, chi_nhanh.tencn from nhan_vien join chi_nhanh on nhan_vien.macn = chi_nhanh.macn where '4 000 000' <= nhan_vien.mucluong <= '5 000 000'\")\n",
    "for row in cur.fetchall():\n",
    "    print(row)"
   ]
  },
  {
   "cell_type": "code",
   "execution_count": 4,
   "id": "ca1e8f03",
   "metadata": {},
   "outputs": [
    {
     "name": "stdout",
     "output_type": "stream",
     "text": [
      "('N04', 'Lê Kim', 'Oanh', 'Nữ', '1975-06-22', 5000000.0, 'C02', None)\n",
      "('N06', 'Nguyễn Thị', 'Chín', 'Nữ', '1968-07-16', 3200000.0, 'C03', 'N05')\n"
     ]
    }
   ],
   "source": [
    "#b) danh sach tat ca nhan vien nu tren 40 tuoi\n",
    "cur.execute(\"select * from nhan_vien where phai = 'Nữ' and strftime('%Y', 'now') - strftime('%Y', ngaysinh) > 40\")\n",
    "for row in cur.fetchall():\n",
    "    print(row)"
   ]
  },
  {
   "cell_type": "code",
   "execution_count": 5,
   "id": "5c5b3a65",
   "metadata": {},
   "outputs": [
    {
     "name": "stdout",
     "output_type": "stream",
     "text": [
      "('Công trình số 5', 'CT05', 'Công trình số 5', '2008/06/22', '2008/12/25', '01', 'C01', 'C01', 'Chi nhánh 1', 'N08', '2006/02/16')\n",
      "('Công trình số 4', 'CT04', 'Công trình số 4', '2008/07/18', '2008/12/25', '02', 'C02', 'C02', 'Chi nhánh 2', 'N04', '2005/12/10')\n",
      "('Công trình số 6', 'CT06', 'Công trình số 6', '2009/06/22', '2009/12/10', '02', 'C02', 'C02', 'Chi nhánh 2', 'N04', '2005/12/10')\n",
      "('Công trình số 1', 'CT01', 'Công trình số 1', '2007/03/07', '2007/05/15', '03', 'C03', 'C03', 'Chi nhánh 3', 'N02', '2004/03/07')\n",
      "('Công trình số 2', 'CT02', 'Công trình số 2', '2007/02/16', '2007/05/15', '04', 'C03', 'C03', 'Chi nhánh 3', 'N02', '2004/03/07')\n",
      "('Công trình số 3', 'CT03', 'Công trình số 3', '2006/07/16', '2007/07/18', '01', 'C03', 'C03', 'Chi nhánh 3', 'N02', '2004/03/07')\n"
     ]
    }
   ],
   "source": [
    "# c)Danh sách tất cả những nhân viên nữ trên 40 tuổi\n",
    "cur.execute(\"select cong_trinh.tenct, * from cong_trinh join chi_nhanh on cong_trinh.macn = chi_nhanh.macn order by cong_trinh.macn\")\n",
    "for row in cur.fetchall():\n",
    "    print(row)"
   ]
  },
  {
   "cell_type": "code",
   "execution_count": 6,
   "id": "657729fc",
   "metadata": {},
   "outputs": [
    {
     "name": "stdout",
     "output_type": "stream",
     "text": [
      "('N02', 'Lưu An', 'Tư', 'C03', 'Chi nhánh 3', '2004/03/07')\n",
      "('N04', 'Lê Kim', 'Oanh', 'C02', 'Chi nhánh 2', '2005/12/10')\n",
      "('N08', 'Lê Hùng', 'Sư', 'C01', 'Chi nhánh 1', '2006/02/16')\n"
     ]
    }
   ],
   "source": [
    "#d)Danh sách mã số, họ tên và ngày nhậm chức của người phụ trách của từng chi nhánh\n",
    "cur.execute(\"select chi_nhanh.manvptr, nhan_vien.honv, nhan_vien.tennv, nhan_vien.macn, chi_nhanh.tencn, chi_nhanh.ngaynhamchuc from nhan_vien join chi_nhanh on nhan_vien.macn = chi_nhanh.macn where nhan_vien.manv = chi_nhanh.manvptr\")\n",
    "for row in cur.fetchall():\n",
    "    print(row)"
   ]
  },
  {
   "cell_type": "code",
   "execution_count": 7,
   "id": "563f44f4",
   "metadata": {},
   "outputs": [
    {
     "name": "stdout",
     "output_type": "stream",
     "text": [
      "('N01', 'Trần Ngọc', 'An', 'CT02', 30, 'Công trình số 2')\n",
      "('N06', 'Nguyễn Thị', 'Chín', 'CT04', 26, 'Công trình số 4')\n",
      "('N02', 'Lưu An', 'Tư', 'CT04', 32, 'Công trình số 4')\n",
      "('N03', 'Lý Thanh', 'Ngọc', 'CT04', 28, 'Công trình số 4')\n",
      "('N07', 'Lê Văn', 'Bốn', 'CT06', 32, 'Công trình số 6')\n"
     ]
    }
   ],
   "source": [
    "#e)Danh sách mã số, họ tên nhân viên, mã công trình và tên công trình mà trong đó nhân viên tham gia công trình với thời gian làm việc hơn 25 giờ/tuần.\n",
    "cur.execute(\"\"\"select nhan_vien.manv, nhan_vien.honv, nhan_vien.tennv, phan_cong.mact, phan_cong.sogiotuan, cong_trinh.tenct from nhan_vien\n",
    "            join phan_cong on nhan_vien.manv = phan_cong.manv\n",
    "            join cong_trinh on phan_cong.mact = cong_trinh.mact\n",
    "            where phan_cong.sogiotuan > 25\"\"\")\n",
    "for row in cur.fetchall():\n",
    "    print(row)"
   ]
  },
  {
   "cell_type": "code",
   "execution_count": 8,
   "id": "2fcd579b",
   "metadata": {},
   "outputs": [
    {
     "name": "stdout",
     "output_type": "stream",
     "text": [
      "('CT03', 'Công trình số 3', 'CT05', 'Công trình số 5')\n"
     ]
    }
   ],
   "source": [
    "#f)Danh sách mã số và tên của những công trình do các chi nhánh khác nhau thi công nhưng lại ở cùng thành phố. Mỗi cặp chỉ liệt kê 1 lần, ví dụ đã liệt kê (i, j) thì không liệt kê lại (j, i).\n",
    "cur.execute(\"\"\"select ct1.mact, ct1.tenct, ct2.mact, ct2.tenct from cong_trinh as ct1, cong_trinh as ct2 where ct1.macn <> ct2.macn and ct1.matp = ct2.matp and ct1.mact < ct2.mact\"\"\")\n",
    "for row in cur.fetchall():\n",
    "    print(row)"
   ]
  },
  {
   "cell_type": "code",
   "execution_count": 9,
   "id": "d9f6df31",
   "metadata": {},
   "outputs": [
    {
     "name": "stdout",
     "output_type": "stream",
     "text": [
      "('CT01', 'Công trình số 1')\n",
      "('CT02', 'Công trình số 2')\n",
      "('CT03', 'Công trình số 3')\n",
      "('CT04', 'Công trình số 4')\n",
      "('CT05', 'Công trình số 5')\n",
      "('CT06', 'Công trình số 6')\n"
     ]
    }
   ],
   "source": [
    "#g)Danh sách những mã số và tên công trình có địa điểm (thành phố) trùng với thành phố của chi nhánh phụ trách thi công.\n",
    "cur.execute(\"select ct.mact, ct.tenct from cong_trinh as ct join vphong_cn as vpcn on ct.macn = vpcn.macn where vpcn.matp = ct.matp\")\n",
    "for row in cur.fetchall():\n",
    "    print(row)"
   ]
  },
  {
   "cell_type": "code",
   "execution_count": 10,
   "id": "225842a9",
   "metadata": {},
   "outputs": [
    {
     "name": "stdout",
     "output_type": "stream",
     "text": [
      "('Trần Ngọc', 'An', 'Lưu An', 'Tư')\n",
      "('Lý Thanh', 'Ngọc', 'Lê Kim', 'Oanh')\n",
      "('Lý Văn', 'Năm', 'Lưu An', 'Tư')\n",
      "('Nguyễn Thị', 'Chín', 'Lưu An', 'Tư')\n",
      "('Lê Văn', 'Bốn', 'Lê Kim', 'Oanh')\n"
     ]
    }
   ],
   "source": [
    "#h)Danh sách họ tên nhân viên và họ tên người phụ trách chi nhánh của mỗi nhân viên.\n",
    "cur.execute(\"select nv1.honv, nv1.tennv, nv2.honv, nv2.tennv from nhan_vien as nv1, nhan_vien as nv2 join chi_nhanh as cn on cn.macn = nv1.macn where cn.manvptr = nv2.manv and nv1.tennv <> nv2.tennv\")\n",
    "for row in cur.fetchall():\n",
    "    print(row)"
   ]
  },
  {
   "cell_type": "code",
   "execution_count": 11,
   "id": "72844780",
   "metadata": {},
   "outputs": [
    {
     "name": "stdout",
     "output_type": "stream",
     "text": [
      "('Trần Ngọc', 'An', 'Công trình số 1')\n",
      "('Trần Ngọc', 'An', 'Công trình số 2')\n",
      "('Trần Ngọc', 'An', 'Công trình số 3')\n",
      "('Lưu An', 'Tư', 'Công trình số 1')\n",
      "('Lưu An', 'Tư', 'Công trình số 2')\n",
      "('Lưu An', 'Tư', 'Công trình số 3')\n",
      "('Lý Thanh', 'Ngọc', 'Công trình số 4')\n",
      "('Lý Thanh', 'Ngọc', 'Công trình số 6')\n",
      "('Lê Kim', 'Oanh', 'Công trình số 4')\n",
      "('Lê Kim', 'Oanh', 'Công trình số 6')\n",
      "('Lý Văn', 'Năm', 'Công trình số 1')\n",
      "('Lý Văn', 'Năm', 'Công trình số 2')\n",
      "('Lý Văn', 'Năm', 'Công trình số 3')\n",
      "('Nguyễn Thị', 'Chín', 'Công trình số 1')\n",
      "('Nguyễn Thị', 'Chín', 'Công trình số 2')\n",
      "('Nguyễn Thị', 'Chín', 'Công trình số 3')\n",
      "('Lê Văn', 'Bốn', 'Công trình số 4')\n",
      "('Lê Văn', 'Bốn', 'Công trình số 6')\n",
      "('Lê Hùng', 'Sư', 'Công trình số 5')\n"
     ]
    }
   ],
   "source": [
    "#i)Danh sách họ tên nhân viên và tên các công trình mà nhân viên có tham gia, nếu có\n",
    "cur.execute(\"select nv.honv, nv.tennv, ct.tenct from nhan_vien as nv join cong_trinh as ct on ct.macn = nv.macn\")\n",
    "for row in cur.fetchall():\n",
    "    print(row)"
   ]
  },
  {
   "cell_type": "code",
   "execution_count": 12,
   "id": "94fac2ee",
   "metadata": {},
   "outputs": [
    {
     "name": "stdout",
     "output_type": "stream",
     "text": [
      "('Công trình số 1', 30)\n",
      "('Công trình số 2', 48)\n",
      "('Công trình số 3', 42)\n",
      "('Công trình số 4', 98)\n",
      "('Công trình số 5', 62)\n",
      "('Công trình số 6', 84)\n"
     ]
    }
   ],
   "source": [
    "#j)Danh sách tên công trình và tổng số giờ làm việc một tuần của tất cả các nhân viên tham gia từng công trình\n",
    "cur.execute(\"select ct.tenct, sum(pc.sogiotuan) from cong_trinh as ct join phan_cong as pc on pc.mact = ct.mact group by ct.mact\")\n",
    "for row in cur.fetchall():\n",
    "    print(row)"
   ]
  },
  {
   "cell_type": "code",
   "execution_count": 13,
   "id": "4eccb3f0",
   "metadata": {},
   "outputs": [
    {
     "name": "stdout",
     "output_type": "stream",
     "text": [
      "('Chi nhánh 1', 6500000.0)\n",
      "('Chi nhánh 2', 4600000.0)\n",
      "('Chi nhánh 3', 4425000.0)\n"
     ]
    }
   ],
   "source": [
    "#k)Danh sách tên chi nhánh và lương trung bình của những nhân viên làm việc của mỗi chi nhánh\n",
    "cur.execute(\"select cn.tencn, avg(nv.mucluong) from chi_nhanh as cn join nhan_vien as nv on cn.macn = nv.macn group by cn.macn\")\n",
    "for row in cur.fetchall():\n",
    "    print(row)"
   ]
  },
  {
   "cell_type": "code",
   "execution_count": 14,
   "id": "14537429",
   "metadata": {},
   "outputs": [
    {
     "name": "stdout",
     "output_type": "stream",
     "text": [
      "(4166666.6666666665,)\n"
     ]
    }
   ],
   "source": [
    "#l) Mức lương trung bình của tất cả những nhân viên nữ.\n",
    "cur.execute(\"select avg(mucluong) from nhan_vien where nhan_vien.phai = 'Nữ'\")\n",
    "for row in cur.fetchall():\n",
    "    print(row)"
   ]
  },
  {
   "cell_type": "code",
   "execution_count": 58,
   "id": "bdc9e7a0",
   "metadata": {},
   "outputs": [
    {
     "name": "stdout",
     "output_type": "stream",
     "text": [
      "('Chi nhánh 1', 1)\n",
      "('Chi nhánh 2', 3)\n"
     ]
    }
   ],
   "source": [
    "#m)Danh sách tên chi nhánh và số lượng nhân viên tương ứng của chi nhánh mà có mức lương trung bình trên 4 500 000.\n",
    "cur.execute(\"\"\"select cn.tencn, count(nv.manv) from chi_nhanh as cn join nhan_vien as nv on cn.macn = nv.macn \n",
    "            group by cn.macn having avg(nv.mucluong) > 4500000\"\"\")\n",
    "for row in cur.fetchall():\n",
    "    print(row)"
   ]
  },
  {
   "cell_type": "code",
   "execution_count": 17,
   "id": "8ec11804",
   "metadata": {},
   "outputs": [
    {
     "name": "stdout",
     "output_type": "stream",
     "text": [
      "('CT01',)\n",
      "('CT02',)\n",
      "('CT03',)\n",
      "('CT04',)\n",
      "('CT06',)\n"
     ]
    }
   ],
   "source": [
    "#n)Danh sách mã số công trình mà trong đó tên nhân viên tham gia công trình hay tên người trưởng chi nhánh phụ trách công trình đó có 4 ký tự trở lên.\n",
    "cur.execute(\"select ct.mact from cong_trinh as ct join nhan_vien as nv on nv.macn = ct.macn where length(nv.tennv) >= 4 group by ct.mact\")\n",
    "for row in cur.fetchall():\n",
    "    print(row)"
   ]
  },
  {
   "cell_type": "code",
   "execution_count": 35,
   "id": "2c0433fc",
   "metadata": {},
   "outputs": [
    {
     "name": "stdout",
     "output_type": "stream",
     "text": [
      "('N02', 'Lưu An', 'Tư')\n",
      "('N04', 'Lê Kim', 'Oanh')\n",
      "('N05', 'Lý Văn', 'Năm')\n",
      "('N08', 'Lê Hùng', 'Sư')\n"
     ]
    }
   ],
   "source": [
    "#o)Danh sách mã số và họ tên nhân viên có mức lương trên mức lương trung bình của chi nhánh có tên ‘Chi nhánh 2’\n",
    "cur.execute(\"\"\"select nv.manv, nv.honv, nv.tennv from nhan_vien as nv join chi_nhanh as cn on nv.macn = cn.macn \n",
    "            where nv.mucluong > (select avg(nv.mucluong) from nhan_vien as nv \n",
    "            join chi_nhanh as cn on nv.macn = cn.macn \n",
    "            and cn.tencn = 'Chi nhánh 2')\"\"\")\n",
    "for row in cur.fetchall():\n",
    "    print(row)"
   ]
  },
  {
   "cell_type": "code",
   "execution_count": null,
   "id": "52e82590",
   "metadata": {},
   "outputs": [
    {
     "name": "stdout",
     "output_type": "stream",
     "text": [
      "(4600000.0,)\n"
     ]
    }
   ],
   "source": [
    "# cur.execute(\"\"\"select avg(nv.mucluong) from nhan_vien as nv join chi_nhanh as cn on nv.macn = cn.macn \n",
    "#             where cn.tencn = 'Chi nhánh 2'\"\"\")\n",
    "# for row in cur.fetchall():\n",
    "#     print(row)"
   ]
  },
  {
   "cell_type": "code",
   "execution_count": 33,
   "id": "39f83ea4",
   "metadata": {},
   "outputs": [
    {
     "name": "stdout",
     "output_type": "stream",
     "text": [
      "('Chi nhánh 3', 'Lưu An', 'An', 4)\n",
      "('Chi nhánh 2', 'Lê Kim', 'Ngọc', 3)\n",
      "('Chi nhánh 1', 'Lê Hùng', 'Sư', 1)\n"
     ]
    }
   ],
   "source": [
    "#p. Danh sách tên chi nhánh và họ tên trưởng chi nhánh đứng đầu về số lượng nhân viên (yêu cầu tương tự cho đứng cuối). \n",
    "cur.execute(\"\"\"\n",
    "            select cn.tencn, nv1.honv, nv2.tennv, count(nv1.manv) from chi_nhanh cn\n",
    "            join nhan_vien nv1 on nv1.manv = cn.manvptr\n",
    "            join nhan_vien nv2 on nv2.macn = cn.macn\n",
    "            group by cn.macn\n",
    "            order by count(nv1.manv) desc\"\"\")\n",
    "for row in cur.fetchall():\n",
    "    print(row)"
   ]
  },
  {
   "cell_type": "code",
   "execution_count": 51,
   "id": "d36cc45b",
   "metadata": {},
   "outputs": [
    {
     "name": "stdout",
     "output_type": "stream",
     "text": [
      "[('C01', 1), ('C02', 3), ('C03', 4)]\n",
      "[('C01', 'Lê Hùng', 'Sư'), ('C02', 'Lê Kim', 'Oanh'), ('C03', 'Lưu An', 'Tư')]\n",
      "[['Lê Hùng', 'Sư', 1], ['Lê Kim', 'Oanh', 3], ['Lưu An', 'Tư', 4]]\n"
     ]
    }
   ],
   "source": [
    "#cach 2\n",
    "cur.execute('''select cn.macn, count(nv.manv)\n",
    "            from chi_nhanh cn join nhan_vien nv on nv.macn = cn.macn group by cn.macn''')\n",
    "cn = cur.fetchall()\n",
    "print(cn)\n",
    "\n",
    "cur.execute('''select nv.macn, nv.honv, nv.tennv from chi_nhanh cn join nhan_vien nv\n",
    "            on cn.manvptr = nv.manv\n",
    "            ''')\n",
    "ht = cur.fetchall()\n",
    "print(ht)\n",
    "\n",
    "results = []\n",
    "for temp in ht:\n",
    "    r = [temp[1], temp[2]]\n",
    "    for i in cn:\n",
    "        if temp[0] == i[0]:\n",
    "            r.append(i[1])\n",
    "    results.append(r)\n",
    "\n",
    "print(results)\n"
   ]
  },
  {
   "cell_type": "code",
   "execution_count": null,
   "id": "fb46bd4c",
   "metadata": {},
   "outputs": [
    {
     "name": "stdout",
     "output_type": "stream",
     "text": [
      "('N01', 'Trần Ngọc', 'An')\n",
      "('N02', 'Lưu An', 'Tư')\n",
      "('N03', 'Lý Thanh', 'Ngọc')\n",
      "('N04', 'Lê Kim', 'Oanh')\n",
      "('N05', 'Lý Văn', 'Năm')\n",
      "('N06', 'Nguyễn Thị', 'Chín')\n",
      "('N07', 'Lê Văn', 'Bốn')\n",
      "('N08', 'Lê Hùng', 'Sư')\n"
     ]
    }
   ],
   "source": [
    "#q. Danh sách mã số, họ tên nhân viên trùng tên với nhau. Mỗi cặp chỉ liệt kê 1 lần, ví dụ đã liệt kê (i,j) thì không liệt kê lại (j, i).\n",
    "cur.execute(\"\"\"\n",
    "            select nv1.manv, nv1.honv, nv1.tennv from nhan_vien nv1, nhan_vien nv2 \n",
    "            where nv1.tennv = nv2.tennv \n",
    "            group by nv1.manv\"\"\")\n",
    "for row in cur.fetchall():\n",
    "    print(row)"
   ]
  }
 ],
 "metadata": {
  "kernelspec": {
   "display_name": "Python 3",
   "language": "python",
   "name": "python3"
  },
  "language_info": {
   "codemirror_mode": {
    "name": "ipython",
    "version": 3
   },
   "file_extension": ".py",
   "mimetype": "text/x-python",
   "name": "python",
   "nbconvert_exporter": "python",
   "pygments_lexer": "ipython3",
   "version": "3.11.4"
  }
 },
 "nbformat": 4,
 "nbformat_minor": 5
}
