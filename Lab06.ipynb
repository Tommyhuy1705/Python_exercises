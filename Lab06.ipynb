{
 "cells": [
  {
   "cell_type": "markdown",
   "id": "3d8458a5",
   "metadata": {},
   "source": [
    "***GUESS NUMBER GAME***"
   ]
  },
  {
   "cell_type": "code",
   "execution_count": 3,
   "id": "f9fe890e",
   "metadata": {},
   "outputs": [
    {
     "name": "stdout",
     "output_type": "stream",
     "text": [
      "There are three levels\n",
      "\t - 1 - easy - you have 10 chance to guess\n",
      "\t - 2 - medium - you have 6 chance to guess\n",
      "\t - 3 - hard - you have 4 chance to guess\n",
      "74\n",
      "so ban doan nho hon\n",
      "so ban doan lon hon \n",
      "ban doan dung sau 3 lan\n",
      "Play times:  1\n",
      "Win times:  1\n"
     ]
    }
   ],
   "source": [
    "import random\n",
    "def choose_level():\n",
    "    print('There are three levels')\n",
    "    print('\\t - 1 - easy - you have 10 chance to guess')\n",
    "    print('\\t - 2 - medium - you have 6 chance to guess')\n",
    "    print('\\t - 3 - hard - you have 4 chance to guess')\n",
    "    while True:\n",
    "        level = int(input('Enter level [1..3]: '))\n",
    "        if 1 <= level <= 3:\n",
    "            break\n",
    "    return level\n",
    "\n",
    "def guess_game(level):\n",
    "    number = random.randint(1,100)\n",
    "    print(number)\n",
    "    is_win = False\n",
    "    if level == 1:\n",
    "        n = 10\n",
    "    elif level == 2:\n",
    "        n = 6\n",
    "    else:\n",
    "        n = 4\n",
    "\n",
    "    for i in range(n):\n",
    "        numberGuess = int(input(\"nhap so ban doan: \"))\n",
    "        if numberGuess == number:\n",
    "            print(f\"ban doan dung sau {i+1} lan\")\n",
    "            is_win = True\n",
    "            break\n",
    "        else:\n",
    "            if numberGuess < number:\n",
    "                print(\"so ban doan nho hon\")\n",
    "            else:\n",
    "                print(\"so ban doan lon hon \")\n",
    "    return is_win\n",
    "if __name__ == '__main__':\n",
    "    no_plays = 0 #Play times\n",
    "    no_win = 0 # Win times\n",
    "    while True:\n",
    "        no_plays += 1\n",
    "        game_level = choose_level()\n",
    "        if guess_game(game_level):\n",
    "            no_win += 1\n",
    "        response = input('Do you want to continue? <n/N to stop>:').lower()\n",
    "        if response == 'n':\n",
    "            break\n",
    "    print('Play times: ', no_plays)\n",
    "    print('Win times: ', no_win)"
   ]
  },
  {
   "cell_type": "markdown",
   "id": "93bf4d71",
   "metadata": {},
   "source": [
    "***TAÌ XỈU GAME***"
   ]
  },
  {
   "cell_type": "code",
   "execution_count": 3,
   "id": "ecfecd2b",
   "metadata": {},
   "outputs": [],
   "source": [
    "import random"
   ]
  },
  {
   "cell_type": "code",
   "execution_count": null,
   "id": "3b4317f0",
   "metadata": {},
   "outputs": [
    {
     "name": "stdout",
     "output_type": "stream",
     "text": [
      "9\n",
      "tai\n",
      "Ban doan dung\n",
      "Bạn rời trò chơi với 150 VNĐ. Cảm ơn đã chơi!\n"
     ]
    }
   ],
   "source": [
    "def TaiXiuGame(money):\n",
    "    muc_dat_cuoc = int(input('Nhập mức đặc cược của bạn:'))\n",
    "    a = random.randint(1, 6)\n",
    "    b = random.randint(1, 6)\n",
    "    sum = a + b\n",
    "    print(sum)\n",
    "\n",
    "    check_tai_xiu = ''\n",
    "\n",
    "    if sum > 5:\n",
    "        check_tai_xiu = 'tai'\n",
    "    elif sum == 5:\n",
    "        check_tai_xiu = 'hoa'\n",
    "    else:\n",
    "        check_tai_xiu = 'xiu'\n",
    "\n",
    "    print(check_tai_xiu)\n",
    "    answer = input('Chọn tài hay xỉu: ').lower()\n",
    "\n",
    "    if answer == check_tai_xiu:\n",
    "        if answer == 'hoa':\n",
    "            money += muc_dat_cuoc * 3\n",
    "        else:\n",
    "            money += muc_dat_cuoc\n",
    "            print('Ban doan dung')\n",
    "    else:\n",
    "        money -= muc_dat_cuoc\n",
    "\n",
    "    return money\n",
    "        \n",
    "def customer():\n",
    "    money = int(input('Enter customer budget: '))\n",
    "    return money\n",
    "\n",
    "if __name__ == '__main__':\n",
    "    \n",
    "    while True:\n",
    "        money_start = customer()\n",
    "        money_start = TaiXiuGame(money_start)\n",
    "        if money_start <= 0:\n",
    "            print('Tài khoản của bạn đã cháy')\n",
    "            response_money = input('Bạn muốn nạp thêm tiền hay không?')\n",
    "            if response_money == 'y':\n",
    "                money_start = customer()\n",
    "            else:\n",
    "                break\n",
    "            \n",
    "        response = input('Do you want to continue? <n/N to stop>:').lower()\n",
    "        if response == 'n':\n",
    "            break\n",
    "        \n",
    "    print(f'Bạn rời trò chơi với {money_start} VNĐ. Cảm ơn đã chơi!')"
   ]
  }
 ],
 "metadata": {
  "kernelspec": {
   "display_name": "Python 3",
   "language": "python",
   "name": "python3"
  },
  "language_info": {
   "codemirror_mode": {
    "name": "ipython",
    "version": 3
   },
   "file_extension": ".py",
   "mimetype": "text/x-python",
   "name": "python",
   "nbconvert_exporter": "python",
   "pygments_lexer": "ipython3",
   "version": "3.12.10"
  }
 },
 "nbformat": 4,
 "nbformat_minor": 5
}
