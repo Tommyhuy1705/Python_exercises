{
 "cells": [
  {
   "cell_type": "markdown",
   "metadata": {},
   "source": [
    "***PYTHON STRING 113 EXERCISES***"
   ]
  },
  {
   "cell_type": "code",
   "execution_count": null,
   "metadata": {},
   "outputs": [
    {
     "name": "stdout",
     "output_type": "stream",
     "text": [
      "3\n"
     ]
    }
   ],
   "source": [
    "#1\n",
    "a = input(\"Enter a string: \")\n",
    "print(len(a))"
   ]
  },
  {
   "cell_type": "code",
   "execution_count": 1,
   "metadata": {},
   "outputs": [
    {
     "name": "stdout",
     "output_type": "stream",
     "text": [
      "abc\n",
      "{'a': 1, 'b': 1, 'c': 1}\n"
     ]
    }
   ],
   "source": [
    "#2\n",
    "phrase = input(\"Enter a phrase\")\n",
    "print(phrase)\n",
    "\n",
    "cList = {}\n",
    "for i in phrase:\n",
    "    if i not in cList or i != \" \":\n",
    "        phrase_count = phrase.count(i)\n",
    "        cList[i] = phrase_count\n",
    "\n",
    "print(cList)"
   ]
  },
  {
   "cell_type": "code",
   "execution_count": 2,
   "metadata": {},
   "outputs": [
    {
     "name": "stdout",
     "output_type": "stream",
     "text": [
      "abbc\n"
     ]
    }
   ],
   "source": [
    "#3\n",
    "phrase = input(\"Enter a phrase\")\n",
    "b = len(phrase)\n",
    "a = \" \"\n",
    "if b >= 2:\n",
    "    a = phrase[0] + phrase[1] + phrase[b-2] + phrase[b-1]\n",
    "print(a)"
   ]
  },
  {
   "cell_type": "code",
   "execution_count": 3,
   "metadata": {},
   "outputs": [
    {
     "name": "stdout",
     "output_type": "stream",
     "text": [
      "acb\n"
     ]
    }
   ],
   "source": [
    "#4\n",
    "phrase = input(\"Enter a phrase:\")\n",
    "\n",
    "first_char = phrase[0]\n",
    "replace_char = first_char + phrase[1:].replace(first_char, '$')\n",
    "\n",
    "print(replace_char)"
   ]
  },
  {
   "cell_type": "code",
   "execution_count": 4,
   "metadata": {},
   "outputs": [
    {
     "name": "stdout",
     "output_type": "stream",
     "text": [
      "acb acbc\n"
     ]
    }
   ],
   "source": [
    "#5\n",
    "a = input(\"Enter a phrase:\")\n",
    "b = input(\"Enter a phrase:\")\n",
    "swaped_string = \"\"\n",
    "if len(a) < 2 and len(b) < 2:\n",
    "    print(\"Both string must have at least two characters\")\n",
    "else:\n",
    "    swap_string1 = a[:2] + b[2:]\n",
    "    swap_string2 = b[:2] + a[2:]\n",
    "    swaped_string = swap_string2 + \" \" + swap_string1\n",
    "\n",
    "print(swaped_string)"
   ]
  },
  {
   "cell_type": "code",
   "execution_count": 5,
   "metadata": {},
   "outputs": [
    {
     "name": "stdout",
     "output_type": "stream",
     "text": [
      "âfdsffing\n"
     ]
    }
   ],
   "source": [
    "#6\n",
    "phrase = input(\"Enter a phrase\")\n",
    "\n",
    "if len(phrase) < 3:\n",
    "    print(phrase)\n",
    "\n",
    "if phrase.endswith(\"ing\"):\n",
    "    print(phrase + \"ly\") \n",
    "else:\n",
    "    print(phrase + \"ing\")"
   ]
  },
  {
   "cell_type": "code",
   "execution_count": 6,
   "metadata": {},
   "outputs": [],
   "source": [
    "#7\n",
    "phrase = input(\"Enter a phrase\")\n",
    "\n",
    "find_not = phrase.find(\"not\")\n",
    "find_poor = phrase.find(\"poor\")\n",
    "\n",
    "if find_not != 1 and find_poor != 1 and find_not < find_poor:\n",
    "    print(phrase[:find_not] + \"good\" + phrase[find_poor + 4:])"
   ]
  },
  {
   "cell_type": "code",
   "execution_count": 7,
   "metadata": {},
   "outputs": [
    {
     "name": "stdout",
     "output_type": "stream",
     "text": [
      "hhaghfgaj\n",
      "9\n"
     ]
    }
   ],
   "source": [
    "#8\n",
    "cList ={'abc', 'length', 'hhaghfgaj', 'FDGSYAUS'}\n",
    "count = 0\n",
    "longest = \"\"\n",
    "for i in cList:\n",
    "    if len(i) > len(longest):\n",
    "        longest = i\n",
    "        count = len(longest)\n",
    "\n",
    "print(longest)\n",
    "print(count)"
   ]
  },
  {
   "cell_type": "code",
   "execution_count": null,
   "metadata": {},
   "outputs": [],
   "source": [
    "#9\n",
    "phrase = input(\"Enter a phrase\")\n",
    "n = int(input(\"Enter nth number\"))\n",
    "if n < 0 or n >= len(phrase):\n",
    "    print(\"Invalid index\") \n",
    "else:\n",
    "    print(phrase[:n] + phrase[n+1:])"
   ]
  },
  {
   "cell_type": "code",
   "execution_count": null,
   "metadata": {},
   "outputs": [
    {
     "name": "stdout",
     "output_type": "stream",
     "text": [
      "hbcdefga\n"
     ]
    }
   ],
   "source": [
    "#10\n",
    "a = input(\"Enter a phrase\")\n",
    "swap_phrase = a[-1] + a[1:-1] + a[0]\n",
    "print(swap_phrase)"
   ]
  },
  {
   "cell_type": "code",
   "execution_count": 12,
   "metadata": {},
   "outputs": [
    {
     "name": "stdout",
     "output_type": "stream",
     "text": [
      "ac\n"
     ]
    }
   ],
   "source": [
    "#11\n",
    "a = input(\"Enter a phrase\")\n",
    "b =\"\"\n",
    "for i in range(len(a)):\n",
    "    if i % 2 == 1:\n",
    "        continue\n",
    "    b += a[i]\n",
    "print(b)"
   ]
  },
  {
   "cell_type": "code",
   "execution_count": 15,
   "metadata": {},
   "outputs": [
    {
     "name": "stdout",
     "output_type": "stream",
     "text": [
      "{'i': 1, 'l': 2, 'o': 2, 'v': 2, 'e': 2}\n"
     ]
    }
   ],
   "source": [
    "#12\n",
    "sentence = input('Enter a sentence')\n",
    "\n",
    "cList = {}\n",
    "count = 0\n",
    "\n",
    "for i in sentence:\n",
    "    if i not in cList and i != \" \":\n",
    "        sentence_count = sentence.count(i)\n",
    "        cList[i] = sentence_count\n",
    "print(cList)"
   ]
  },
  {
   "cell_type": "code",
   "execution_count": 16,
   "metadata": {},
   "outputs": [
    {
     "name": "stdout",
     "output_type": "stream",
     "text": [
      "I LOVE YOU SO MUCH\n",
      "i love you so much\n"
     ]
    }
   ],
   "source": [
    "#13\n",
    "script = input('Enter a script')\n",
    "\n",
    "a = script.upper()\n",
    "b = script.lower()\n",
    "print(a)\n",
    "print(b)"
   ]
  },
  {
   "cell_type": "code",
   "execution_count": 24,
   "metadata": {},
   "outputs": [
    {
     "name": "stdout",
     "output_type": "stream",
     "text": [
      " black,  black,  green,  red,  white, red\n"
     ]
    }
   ],
   "source": [
    "#14\n",
    "script = input('Enter a script')\n",
    "\n",
    "script_sort = script.split(',')\n",
    "script_sort.sort()\n",
    "print(', '.join(script_sort))"
   ]
  },
  {
   "cell_type": "code",
   "execution_count": 26,
   "metadata": {},
   "outputs": [
    {
     "name": "stdout",
     "output_type": "stream",
     "text": [
      "<i>phrase</i>\n"
     ]
    }
   ],
   "source": [
    "#15\n",
    "def add_tags(tag, phrase):\n",
    "    return f\"<{tag}>phrase</{tag}>\"\n",
    "\n",
    "a, b = 'i', 'python'\n",
    "print(add_tags(a, b))"
   ]
  },
  {
   "cell_type": "code",
   "execution_count": 1,
   "metadata": {},
   "outputs": [
    {
     "name": "stdout",
     "output_type": "stream",
     "text": [
      "[[Python]]\n",
      "{{PHP}}\n"
     ]
    }
   ],
   "source": [
    "#16\n",
    "def insert_string_middle(wrapper, word):\n",
    "    mid = len(wrapper) // 2\n",
    "    return wrapper[:mid] + word + wrapper[mid:]\n",
    "\n",
    "print(insert_string_middle('[[]]', 'Python'))\n",
    "print(insert_string_middle('{{}}', 'PHP'))"
   ]
  },
  {
   "cell_type": "code",
   "execution_count": 36,
   "metadata": {},
   "outputs": [
    {
     "name": "stdout",
     "output_type": "stream",
     "text": [
      "onononon\n"
     ]
    }
   ],
   "source": [
    "#17\n",
    "phrase = input('Enter a phrase')\n",
    "if len(phrase) < 2:\n",
    "    print('Invalid string')\n",
    "\n",
    "a = (phrase[-2] + phrase[-1]) * 4\n",
    "print(a)"
   ]
  },
  {
   "cell_type": "code",
   "execution_count": null,
   "metadata": {},
   "outputs": [
    {
     "name": "stdout",
     "output_type": "stream",
     "text": [
      "pyt\n"
     ]
    }
   ],
   "source": [
    "#18\n",
    "phrase = input('Enter a phrase')\n",
    "\n",
    "if len(phrase) < 3:\n",
    "    print(phrase)\n",
    "\n",
    "a = phrase[:3]\n",
    "print(a)"
   ]
  },
  {
   "cell_type": "code",
   "execution_count": 45,
   "metadata": {},
   "outputs": [
    {
     "name": "stdout",
     "output_type": "stream",
     "text": [
      "character\n"
     ]
    }
   ],
   "source": [
    "#19\n",
    "phrase = input('Enter a phrase')\n",
    "\n",
    "count = 0\n",
    "for i in phrase:\n",
    "    if i == '-':\n",
    "        break\n",
    "    count+=1\n",
    "\n",
    "print(phrase[:count])"
   ]
  },
  {
   "cell_type": "code",
   "execution_count": 47,
   "metadata": {},
   "outputs": [
    {
     "name": "stdout",
     "output_type": "stream",
     "text": [
      "dcbadcba\n"
     ]
    }
   ],
   "source": [
    "#20\n",
    "phrase = input('Enter a phrase')\n",
    "a = len(phrase)\n",
    "if a % 4 == 0:\n",
    "    phrase = phrase[::-1]\n",
    "print(phrase)"
   ]
  },
  {
   "cell_type": "code",
   "execution_count": 50,
   "metadata": {},
   "outputs": [
    {
     "name": "stdout",
     "output_type": "stream",
     "text": [
      "abcd\n"
     ]
    }
   ],
   "source": [
    "#21\n",
    "phrase = input('Enter a phrase')\n",
    "count = 0\n",
    "for i in range(4):\n",
    "    if phrase[i] == phrase[i].upper():\n",
    "        count +=1\n",
    "if count >= 2:\n",
    "    phrase = phrase.upper()\n",
    "print(phrase)"
   ]
  },
  {
   "cell_type": "code",
   "execution_count": 57,
   "metadata": {},
   "outputs": [
    {
     "name": "stdout",
     "output_type": "stream",
     "text": [
      "jjjllllllllssssssuuww\n"
     ]
    }
   ],
   "source": [
    "#22\n",
    "phrase = input('Enter a phrase')\n",
    "a = []\n",
    "b = \"\"\n",
    "for i in range(len(phrase)):\n",
    "    a.append(phrase[i])\n",
    "    a.sort()\n",
    "    b += a[i]\n",
    "print(b)"
   ]
  },
  {
   "cell_type": "code",
   "execution_count": null,
   "metadata": {},
   "outputs": [
    {
     "name": "stdout",
     "output_type": "stream",
     "text": [
      "Hello, World!\n",
      "Hello,World!\n"
     ]
    }
   ],
   "source": [
    "#23\n",
    "phrase = \"Hello, World!\\n\"\n",
    "text = \"Hello,\\nWorld!\\n\"\n",
    "\n",
    "clean_phrase = phrase.strip()\n",
    "cleaned_text_all = text.replace(\"\\n\", \"\")\n",
    "print(clean_phrase)\n",
    "print(cleaned_text_all)"
   ]
  },
  {
   "cell_type": "code",
   "execution_count": null,
   "metadata": {},
   "outputs": [
    {
     "name": "stdout",
     "output_type": "stream",
     "text": [
      "True\n"
     ]
    }
   ],
   "source": [
    "#24\n",
    "def start_with(string, prefix):\n",
    "    return string.startswith(prefix)\n",
    "\n",
    "print(start_with('Hello World', 'Hello'))"
   ]
  },
  {
   "cell_type": "code",
   "execution_count": null,
   "metadata": {},
   "outputs": [
    {
     "name": "stdout",
     "output_type": "stream",
     "text": [
      "Plain Text : CEASER CIPHER DEMO\n",
      "Shift pattern : 3\n",
      "Cipher: FHDVHUqFLSKHUqGHPR\n"
     ]
    }
   ],
   "source": [
    "#25\n",
    "def encrypt(text,s):\n",
    "    result = \"\"\n",
    "   # transverse the plain text\n",
    "    for i in range(len(text)):\n",
    "        char = text[i]\n",
    "        if (char.isupper()):\n",
    "            result += chr((ord(char) + s-65) % 26 + 65)\n",
    "        else:\n",
    "            result += chr((ord(char) + s - 97) % 26 + 97)\n",
    "    return result\n",
    "\n",
    "text = \"CEASER CIPHER DEMO\"\n",
    "s = 3\n",
    "print(\"Plain Text : \" + text)\n",
    "print(\"Shift pattern : \" + str(s))\n",
    "print(\"Cipher: \" + encrypt(text,s))"
   ]
  },
  {
   "cell_type": "code",
   "execution_count": 13,
   "metadata": {},
   "outputs": [
    {
     "name": "stdout",
     "output_type": "stream",
     "text": [
      "                      Python                      \n",
      "Left justify:  Python                                            \n",
      "Right justify:                                              Python\n"
     ]
    }
   ],
   "source": [
    "#26\n",
    "def display_formatted_text(text, width):\n",
    "    formatted_text = text.center(width)\n",
    "    print(formatted_text)\n",
    "\n",
    "def display_formatted_text_LR(text, width):\n",
    "    left_display = text.ljust(width)\n",
    "    print('Left justify: ' ,left_display)\n",
    "\n",
    "    right_display = text.rjust(width)\n",
    "    print('Right justify: ' ,right_display)\n",
    "text = 'Python'\n",
    "display_formatted_text(text, 50)\n",
    "display_formatted_text_LR(text, 50)"
   ]
  },
  {
   "cell_type": "code",
   "execution_count": 18,
   "metadata": {},
   "outputs": [
    {
     "name": "stdout",
     "output_type": "stream",
     "text": [
      "27. Write a Python program to remove existing indentation from all of the lines in a given text.\n",
      "28. Write a Python program to add prefix text to all of the lines in a string.\n"
     ]
    }
   ],
   "source": [
    "#27\n",
    "text = \"\"\"      27. Write a Python program to remove existing indentation from all of the lines in a given text.\n",
    "                28. Write a Python program to add prefix text to all of the lines in a string.\"\"\"\n",
    "clean_lines = []\n",
    "for line in text.splitlines():\n",
    "    line = line.lstrip()\n",
    "    clean_lines.append(line)\n",
    "print('\\n'.join(clean_lines))"
   ]
  },
  {
   "cell_type": "code",
   "execution_count": 24,
   "metadata": {},
   "outputs": [
    {
     "name": "stdout",
     "output_type": "stream",
     "text": [
      "Dr.Huy\n"
     ]
    }
   ],
   "source": [
    "#28\n",
    "def add_prefix(string, position, add_phrase):\n",
    "    if position == 'prefix':\n",
    "        return add_phrase + string\n",
    "    elif position == 'suffix':\n",
    "        return string + add_phrase\n",
    "\n",
    "print(add_prefix('Huy', 'prefix', 'Dr.'))"
   ]
  },
  {
   "cell_type": "code",
   "execution_count": null,
   "metadata": {},
   "outputs": [],
   "source": [
    "#29\n"
   ]
  },
  {
   "cell_type": "code",
   "execution_count": 3,
   "metadata": {},
   "outputs": [
    {
     "name": "stdout",
     "output_type": "stream",
     "text": [
      "Number with 2 decimal places: 54.12\n"
     ]
    }
   ],
   "source": [
    "#30\n",
    "number = float(input('Enter a number: '))\n",
    "print(f'Number with 2 decimal places: {number:.2f}')"
   ]
  },
  {
   "cell_type": "code",
   "execution_count": null,
   "metadata": {},
   "outputs": [],
   "source": [
    "#31\n"
   ]
  },
  {
   "cell_type": "code",
   "execution_count": 4,
   "metadata": {},
   "outputs": [],
   "source": [
    "import numpy as np"
   ]
  },
  {
   "cell_type": "code",
   "execution_count": 9,
   "metadata": {},
   "outputs": [
    {
     "name": "stdout",
     "output_type": "stream",
     "text": [
      "15\n",
      "-15\n"
     ]
    }
   ],
   "source": [
    "#32\n",
    "a = int(input('Enter a number'))\n",
    "if a < 0:\n",
    "    print(a)\n",
    "    print(abs(a))\n",
    "else:\n",
    "    print(a)\n",
    "    print(-abs(a))"
   ]
  },
  {
   "cell_type": "code",
   "execution_count": 14,
   "metadata": {},
   "outputs": [
    {
     "name": "stdout",
     "output_type": "stream",
     "text": [
      "000131331\n"
     ]
    }
   ],
   "source": [
    "#33\n",
    "width = int(input('Enter width'))\n",
    "number = input('Enter a number')\n",
    "following_number = ''\n",
    "if len(number) < width:\n",
    "    print('Invalid width')\n",
    "else:\n",
    "    for i in range(width):\n",
    "        following_number += '0'\n",
    "    print(following_number + number[width:])"
   ]
  },
  {
   "cell_type": "code",
   "execution_count": 22,
   "metadata": {},
   "outputs": [
    {
     "name": "stdout",
     "output_type": "stream",
     "text": [
      "2453*****\n"
     ]
    }
   ],
   "source": [
    "#34\n",
    "width = int(input('Enter width'))\n",
    "number = input('Enter number')\n",
    "following_number = ''\n",
    "if len(number) < width:\n",
    "    print('Invalid width')\n",
    "else:\n",
    "    for i in range(width):\n",
    "        following_number += number[i]\n",
    "    print(following_number + ('*'* (len(number) - width)))"
   ]
  },
  {
   "cell_type": "code",
   "execution_count": null,
   "metadata": {},
   "outputs": [
    {
     "name": "stdout",
     "output_type": "stream",
     "text": [
      "2,3,5,3,5,6,3\n"
     ]
    }
   ],
   "source": [
    "#35\n",
    "number = input('Enter a number')\n",
    "length = len(number)\n",
    "\n",
    "if "
   ]
  },
  {
   "cell_type": "code",
   "execution_count": null,
   "metadata": {},
   "outputs": [],
   "source": []
  }
 ],
 "metadata": {
  "kernelspec": {
   "display_name": "Python 3",
   "language": "python",
   "name": "python3"
  },
  "language_info": {
   "codemirror_mode": {
    "name": "ipython",
    "version": 3
   },
   "file_extension": ".py",
   "mimetype": "text/x-python",
   "name": "python",
   "nbconvert_exporter": "python",
   "pygments_lexer": "ipython3",
   "version": "3.12.9"
  }
 },
 "nbformat": 4,
 "nbformat_minor": 2
}
