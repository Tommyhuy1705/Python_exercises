{
 "cells": [
  {
   "cell_type": "markdown",
   "id": "165a7a7f",
   "metadata": {},
   "source": [
    "Tuple\n",
    "to create a tuple of numbers and print one item.\n",
    "to unpack a tuple into several variables.\n",
    "to add an item to a tuple.\n",
    "to find the index of an item in a tuple.\n",
    "to find the repeated items of a tuple"
   ]
  },
  {
   "cell_type": "code",
   "execution_count": 1,
   "id": "1bf11723",
   "metadata": {},
   "outputs": [
    {
     "name": "stdout",
     "output_type": "stream",
     "text": [
      "1\n"
     ]
    }
   ],
   "source": [
    "#1\n",
    "tuple = (1, 2, 3, 4, 5, 6)\n",
    "print(tuple[0])"
   ]
  },
  {
   "cell_type": "code",
   "execution_count": 4,
   "id": "ae878d3c",
   "metadata": {},
   "outputs": [
    {
     "name": "stdout",
     "output_type": "stream",
     "text": [
      "1\n",
      "3\n",
      "5\n"
     ]
    }
   ],
   "source": [
    "#2\n",
    "tuple = (1, 2, 3, 4, 5)\n",
    "a, _, b, _, c = tuple\n",
    "print(a)\n",
    "print(b)\n",
    "print(c)"
   ]
  },
  {
   "cell_type": "code",
   "execution_count": null,
   "id": "83bd62c8",
   "metadata": {},
   "outputs": [
    {
     "name": "stdout",
     "output_type": "stream",
     "text": [
      "(1, 2, 2, 3, 4, 5, 6)\n"
     ]
    }
   ],
   "source": [
    "#3\n",
    "my_tuple = (1, 2, 3, 4, 5)\n",
    "cList = list(my_tuple)\n",
    "cList.append(6)\n",
    "update_tuple = tuple(cList)\n",
    "print(update_tuple)"
   ]
  },
  {
   "cell_type": "code",
   "execution_count": 4,
   "id": "4fdeff87",
   "metadata": {},
   "outputs": [
    {
     "name": "stdout",
     "output_type": "stream",
     "text": [
      "4\n"
     ]
    }
   ],
   "source": [
    "#4\n",
    "my_tuple = (1, 2, 3, 4, 5)\n",
    "index = my_tuple.index(5)\n",
    "print(index)"
   ]
  },
  {
   "cell_type": "code",
   "execution_count": null,
   "id": "21809b74",
   "metadata": {},
   "outputs": [],
   "source": [
    "#5\n",
    "my_tuple = (1, 2, 3, 3, 4, 5, 5)\n"
   ]
  },
  {
   "cell_type": "markdown",
   "id": "36a5d947",
   "metadata": {},
   "source": [
    "Set\n",
    "\n",
    "Write a Python program to find the maximum and minimum values in a set.\n",
    "Write a Python program to check if a given value is present in a set or not.\n",
    "Write a Python program to check if two given sets have no elements in common.\n",
    "Write a Python program to find all the unique words and count the frequency of occurrence from a given list of strings. Use Python set data type.\n",
    "Given two sets of numbers, write a Python program to find the missing numbers in the second set as compared to the first and vice versa. Use the Python set."
   ]
  },
  {
   "cell_type": "code",
   "execution_count": null,
   "id": "7b8d5093",
   "metadata": {},
   "outputs": [],
   "source": []
  },
  {
   "cell_type": "markdown",
   "id": "c3d89978",
   "metadata": {},
   "source": [
    "Dict\n",
    "\n",
    "Convert two lists into a dictionary\n",
    "Merge two Python dictionaries into one\n",
    "Print the value of key ‘history’ from the below dict\n",
    "Initialize dictionary with default values\n",
    "Create a dictionary by extracting the keys from a given dictionary\n",
    "Delete a list of keys from a dictionary\n",
    "Check if a value exists in a dictionary\n",
    "Rename key of a dictionary\n",
    "Get the key of a minimum value from the following dictionary\n",
    "Change value of a key in a nested dictionary\n",
    "Counts the number of times characters appear in a text paragraph.\n",
    "Using a dictionary containing keys starting from 1 and values ​​containing prime numbers less than a value N."
   ]
  }
 ],
 "metadata": {
  "kernelspec": {
   "display_name": "Python 3",
   "language": "python",
   "name": "python3"
  },
  "language_info": {
   "codemirror_mode": {
    "name": "ipython",
    "version": 3
   },
   "file_extension": ".py",
   "mimetype": "text/x-python",
   "name": "python",
   "nbconvert_exporter": "python",
   "pygments_lexer": "ipython3",
   "version": "3.11.4"
  }
 },
 "nbformat": 4,
 "nbformat_minor": 5
}
