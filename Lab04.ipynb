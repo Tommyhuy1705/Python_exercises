{
 "cells": [
  {
   "cell_type": "markdown",
   "id": "26250a47",
   "metadata": {},
   "source": [
    "***IF STATEMENT***"
   ]
  },
  {
   "cell_type": "code",
   "execution_count": 21,
   "id": "c8bb96a7",
   "metadata": {},
   "outputs": [],
   "source": [
    "import random"
   ]
  },
  {
   "cell_type": "code",
   "execution_count": null,
   "id": "b86e6510",
   "metadata": {},
   "outputs": [
    {
     "data": {
      "text/plain": [
       "'eligible'"
      ]
     },
     "execution_count": 4,
     "metadata": {},
     "output_type": "execute_result"
    }
   ],
   "source": [
    "#1\n",
    "def eligible(age):\n",
    "    if age < 18:\n",
    "        print('not eligible')\n",
    "    else:\n",
    "        print('eligible')\n",
    "age = int(input('Enter age'))\n",
    "eligible(age)"
   ]
  },
  {
   "cell_type": "code",
   "execution_count": 6,
   "id": "f7651e28",
   "metadata": {},
   "outputs": [
    {
     "name": "stdout",
     "output_type": "stream",
     "text": [
      "number is even\n"
     ]
    }
   ],
   "source": [
    "#2\n",
    "def check_odd(number):\n",
    "    if number % 2 == 0:\n",
    "        print('number is even')\n",
    "    else:\n",
    "        print('number is odd')\n",
    "number = int(input('Enter number'))\n",
    "check_odd(number)"
   ]
  },
  {
   "cell_type": "code",
   "execution_count": 13,
   "id": "b5f5d308",
   "metadata": {},
   "outputs": [
    {
     "data": {
      "text/plain": [
       "'number is divisible by 7'"
      ]
     },
     "execution_count": 13,
     "metadata": {},
     "output_type": "execute_result"
    }
   ],
   "source": [
    "#3\n",
    "def divised_by_7(number):\n",
    "    if number % 7 == 0:\n",
    "        return \"number is divisible by 7\"\n",
    "    else:\n",
    "        return \" number is not divisible by 7\"\n",
    "number = int(input('Enter number'))\n",
    "divised_by_7(number)"
   ]
  },
  {
   "cell_type": "code",
   "execution_count": 11,
   "id": "d0f5d167",
   "metadata": {},
   "outputs": [
    {
     "name": "stdout",
     "output_type": "stream",
     "text": [
      "Last digit is not divisible by 3\n"
     ]
    }
   ],
   "source": [
    "#4\n",
    "def check_last_digit(number):\n",
    "    if int(number[len(number)-1]) % 3 == 0:\n",
    "        print('Last digit is divisible by 3')\n",
    "    else:\n",
    "        print('Last digit is not divisible by 3')\n",
    "number = input('Enter number')\n",
    "check_last_digit(number)"
   ]
  },
  {
   "cell_type": "code",
   "execution_count": null,
   "id": "e1cdc1c8",
   "metadata": {},
   "outputs": [
    {
     "name": "stdout",
     "output_type": "stream",
     "text": [
      "8\n",
      "Bna doan chua dung\n",
      "Bna doan chua dung\n",
      "Bna doan chua dung\n",
      "Bna doan chua dung\n",
      "Ban da doan dung number tai lan thu 5\n"
     ]
    }
   ],
   "source": [
    "#5\n",
    "def guess_number():\n",
    "    number = random.randint(1, 10)\n",
    "    print(number)\n",
    "    nums = int(input(\"chon so lan ban muon doan\"))\n",
    "    for i in range(nums):\n",
    "        guess = int(input('Cau tra loi cua nguoi choi'))\n",
    "        if guess == number:\n",
    "            print(f'Ban da doan dung number tai lan thu {i + 1}')\n",
    "            break\n",
    "        else:\n",
    "            print('Ban doan chua dung')\n",
    "guess_number()"
   ]
  },
  {
   "cell_type": "code",
   "execution_count": 41,
   "id": "d04f95a7",
   "metadata": {},
   "outputs": [
    {
     "name": "stdout",
     "output_type": "stream",
     "text": [
      "Thursday\n"
     ]
    }
   ],
   "source": [
    "#6\n",
    "def weekly(number):\n",
    "    week = {\n",
    "        1: 'Sunday',\n",
    "        2: 'Monday',\n",
    "        3: 'Tuesday',\n",
    "        4: 'Wednesday',\n",
    "        5: 'Thursday',\n",
    "        6: 'Friday',\n",
    "        7: 'Saturday'\n",
    "    }\n",
    "\n",
    "    print(week[number])\n",
    "number = int(input('Enter number'))\n",
    "weekly(number)"
   ]
  }
 ],
 "metadata": {
  "kernelspec": {
   "display_name": "Python 3",
   "language": "python",
   "name": "python3"
  },
  "language_info": {
   "codemirror_mode": {
    "name": "ipython",
    "version": 3
   },
   "file_extension": ".py",
   "mimetype": "text/x-python",
   "name": "python",
   "nbconvert_exporter": "python",
   "pygments_lexer": "ipython3",
   "version": "3.12.9"
  }
 },
 "nbformat": 4,
 "nbformat_minor": 5
}
