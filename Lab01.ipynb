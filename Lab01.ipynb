{
 "cells": [
  {
   "cell_type": "markdown",
   "metadata": {},
   "source": [
    "***NUMBERS***"
   ]
  },
  {
   "cell_type": "markdown",
   "metadata": {},
   "source": [
    "Declare 5 as num_one and 4 as num_two"
   ]
  },
  {
   "cell_type": "code",
   "execution_count": 13,
   "metadata": {},
   "outputs": [],
   "source": [
    "import numpy as np\n",
    "import math"
   ]
  },
  {
   "cell_type": "code",
   "execution_count": 6,
   "metadata": {},
   "outputs": [
    {
     "name": "stdout",
     "output_type": "stream",
     "text": [
      "total = 9\n",
      "diff = 1\n",
      "product = 20\n",
      "division = 1.25\n",
      "remainder = 1\n",
      "exp = 625\n",
      "floor division = 1\n"
     ]
    }
   ],
   "source": [
    "num_one = 5\n",
    "num_two = 4\n",
    "\n",
    "#a\n",
    "total = num_one + num_two\n",
    "print(\"total =\", total)\n",
    "\n",
    "#b\n",
    "diff = num_one - num_two\n",
    "print(\"diff =\", diff)\n",
    "\n",
    "#c\n",
    "product = num_one * num_two\n",
    "print(\"product =\", product)\n",
    "\n",
    "#d\n",
    "division = num_one / num_two\n",
    "print(\"division =\", division)\n",
    "\n",
    "#e\n",
    "remainder = num_one % num_two\n",
    "print(\"remainder =\", remainder)\n",
    "\n",
    "#f\n",
    "exp = num_one ** num_two\n",
    "print(\"exp =\", exp)\n",
    "\n",
    "#g\n",
    "floor_division = num_one // num_two\n",
    "print(\"floor division =\", floor_division)"
   ]
  },
  {
   "cell_type": "markdown",
   "metadata": {},
   "source": [
    "The radius of a circle is 30 meters."
   ]
  },
  {
   "cell_type": "code",
   "execution_count": 16,
   "metadata": {},
   "outputs": [
    {
     "name": "stdout",
     "output_type": "stream",
     "text": [
      "area_of_circle = 2827.4333882308138\n",
      "circum of circle = 188.49555921538757\n",
      "The area = 78.53981633974483\n"
     ]
    }
   ],
   "source": [
    "#a\n",
    "r = 30\n",
    "area_of_circle = np.pi * np.pow(r, 2)\n",
    "#area = math.pi * np.pow(r, 2)\n",
    "print(\"area_of_circle =\", area_of_circle)\n",
    "#print(area)\n",
    "\n",
    "#b\n",
    "circum_of_circle = 2 * np.pi * r\n",
    "print(\"circum of circle =\", circum_of_circle)\n",
    "\n",
    "#c\n",
    "radius = float(input(\"Enter the radius: \"))\n",
    "area = np.pi * np.pow(radius, 2)\n",
    "print(\"The area =\", area)"
   ]
  },
  {
   "cell_type": "markdown",
   "metadata": {},
   "source": [
    "***STRING***"
   ]
  },
  {
   "cell_type": "code",
   "execution_count": 1,
   "metadata": {},
   "outputs": [
    {
     "name": "stdout",
     "output_type": "stream",
     "text": [
      "11\n",
      "llo\n",
      "Hello World\n",
      "HELLO WORLD\n",
      "hello world\n",
      "HeLLo WorLd\n",
      "yuh\n"
     ]
    }
   ],
   "source": [
    "x = \"Hello World\"\n",
    "\n",
    "#1\n",
    "print(len(x))\n",
    "\n",
    "#2\n",
    "print(x[2:5])\n",
    "\n",
    "#3\n",
    "print(x.strip())\n",
    "\n",
    "#4\n",
    "a = x.upper()\n",
    "b = x.lower()\n",
    "print(a)\n",
    "print(b)\n",
    "\n",
    "#5\n",
    "x = x.replace('l', 'L')\n",
    "print(x)\n",
    "\n",
    "#6\n",
    "string_prompt = input(\"Enter the prompt: \")\n",
    "a = string_prompt[::-1]\n",
    "# a = \"\"\n",
    "# for i in string_prompt:\n",
    "#     a = a + i\n",
    "    \n",
    "# print(a)\n",
    "print(a)"
   ]
  }
 ],
 "metadata": {
  "kernelspec": {
   "display_name": "Python 3",
   "language": "python",
   "name": "python3"
  },
  "language_info": {
   "codemirror_mode": {
    "name": "ipython",
    "version": 3
   },
   "file_extension": ".py",
   "mimetype": "text/x-python",
   "name": "python",
   "nbconvert_exporter": "python",
   "pygments_lexer": "ipython3",
   "version": "3.12.9"
  }
 },
 "nbformat": 4,
 "nbformat_minor": 2
}
